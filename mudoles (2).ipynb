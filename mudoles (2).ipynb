{
 "cells": [
  {
   "cell_type": "code",
   "execution_count": 4,
   "metadata": {},
   "outputs": [
    {
     "name": "stdout",
     "output_type": "stream",
     "text": [
      "-1.0\n",
      "3.317400098335743e+39\n",
      "785.0360857142857\n",
      "D\n"
     ]
    }
   ],
   "source": [
    "import math \n",
    "print(math.cos(9*math.pi))\n",
    "print(math.exp(91))\n",
    "#####################################################################\n",
    "## Module Statistique\n",
    "# Le module statistique est utilisé pour calculer des statistiques sur des données.\n",
    "# Il contient des fonctions pour calculer la moyenne, la médiane, la variance\n",
    "###########################################################################\n",
    "import statistics\n",
    "liste_1 = [19,0.12,3,4,85,6,7,18]\n",
    "print(statistics.variance(liste_1))\n",
    "#########################################################################\n",
    "## Module random\n",
    "#########################################################################\n",
    "# Le module random est utilisé pour générer des nombres aléatoires.\n",
    "import random\n",
    "random.seed(3)\n",
    "my_list = [\"A\",\"B\",\"C\",\"D\",\"E\",\"F\",\"G\",\"H\",\"I\"]\n",
    "print(random.choice(my_list))"
   ]
  },
  {
   "cell_type": "code",
   "execution_count": 7,
   "metadata": {},
   "outputs": [],
   "source": [
    "# import random\n",
    "\n",
    "# my_list = [chr(i) for i in range(ord('A'), ord('I')+1)]\n",
    "\n",
    "# x = input(\"ⵙⴽⴻⵛⵎ ⴰⵙⴻⴽⴽⵉⵍ ⴳⴰⵔ A ⴷ ⵏ: \").upper()\n",
    "\n",
    "# while True:\n",
    "#     if x == \"1\":\n",
    "#         exit()\n",
    "#     if random.choice(my_list) != x:\n",
    "#         print(\"ⵎⴰⵞⵞⵉ ⴷ ⴰⵡⴰⴷⴻⵎⵏⵏⵉ\")\n",
    "#         x = input(\"ⵙⴽⴻⵛⵎ ⴰⵙⴻⴽⴽⵉⵍ ⴳⴰⵔ A ⴷ ⵏ: \").upper()\n",
    "#     else:\n",
    "#         print(\"ⴰⵢⵓⵣ! ⵜⴻⵔⴱⴻⵃⴻⴹ!\")\n",
    "#         break\n"
   ]
  },
  {
   "cell_type": "code",
   "execution_count": 48,
   "metadata": {},
   "outputs": [
    {
     "name": "stdout",
     "output_type": "stream",
     "text": [
      "['J', 'N', 'C', 'G', 'D', 'I', 'L', 'E']\n",
      "[3, 4, 5, 6, 7, 8, 9]\n",
      "None\n"
     ]
    }
   ],
   "source": [
    "lit=[chr(x) for x in random.sample(range(ord('A'),ord('O')),8)]\n",
    "print(lit)\n",
    "litN = [i for i in range(3,10)]\n",
    "print(litN)\n",
    "# shuffle permit de le milangerlitN aleatoirment de donneés dans une structeur de donnes comme une list\n",
    "print(random.shuffle(litN))\n"
   ]
  },
  {
   "cell_type": "code",
   "execution_count": 79,
   "metadata": {},
   "outputs": [
    {
     "data": {
      "text/plain": [
       "[\"{'0': 0, '1': 1, '2': 4, '3': 9, '4': 16, '5': 25, '6': 36, '7': 49, '8': 64, '9': 81, '10': 100, '11': 121, '12': 144, '13': 169, '14': 196, '15': 225, '16': 256, '17': 289, '18': 324, '19': 361}\"]"
      ]
     },
     "execution_count": 79,
     "metadata": {},
     "output_type": "execute_result"
    }
   ],
   "source": [
    "import glob\n",
    "import os\n",
    "filenames = glob.glob(\"*.txt\")\n",
    "for file in filenames :\n",
    "    with open(file, 'r') as f:\n",
    "        liste = f.read().splitlines()\n",
    "liste"
   ]
  },
  {
   "cell_type": "code",
   "execution_count": 81,
   "metadata": {},
   "outputs": [],
   "source": [
    "## POO"
   ]
  },
  {
   "cell_type": "code",
   "execution_count": 95,
   "metadata": {},
   "outputs": [
    {
     "name": "stdout",
     "output_type": "stream",
     "text": [
      "[2, 3, 4, 5, 6, 7, 8, 9]\n",
      "8\n"
     ]
    }
   ],
   "source": [
    "import numpy as np\n",
    "lis = [ i for i in range(2,10)]\n",
    "print(lis)\n",
    "tableau = np.array(lis)\n",
    "print(tableau.size)"
   ]
  },
  {
   "cell_type": "code",
   "execution_count": 2,
   "metadata": {},
   "outputs": [],
   "source": [
    "import glob\n",
    "filenam = glob.glob('*.txt')\n",
    "d = {}\n",
    "for file in filenam:\n",
    "    with open(file, 'r') as f:\n",
    "        d[file] = f.read().splitlines()"
   ]
  },
  {
   "cell_type": "code",
   "execution_count": 9,
   "metadata": {},
   "outputs": [
    {
     "name": "stdout",
     "output_type": "stream",
     "text": [
      "-1.2472979290643098\n"
     ]
    },
    {
     "data": {
      "text/plain": [
       "-1.2472979290643096"
      ]
     },
     "execution_count": 9,
     "metadata": {},
     "output_type": "execute_result"
    }
   ],
   "source": [
    "import numpy as np\n",
    "produit = np.log(0.7 * 0.8 * 0.95 * 0.8 * 0.9 * 0.75)\n",
    "print(produit)\n",
    "sm = np.log(0.7) + np.log(0.8) + np.log(0.95) + np.log(0.8) + np.log(0.9) + np.log(0.75)\n",
    "sm\n"
   ]
  }
 ],
 "metadata": {
  "kernelspec": {
   "display_name": "Python 3",
   "language": "python",
   "name": "python3"
  },
  "language_info": {
   "codemirror_mode": {
    "name": "ipython",
    "version": 3
   },
   "file_extension": ".py",
   "mimetype": "text/x-python",
   "name": "python",
   "nbconvert_exporter": "python",
   "pygments_lexer": "ipython3",
   "version": "3.12.5"
  }
 },
 "nbformat": 4,
 "nbformat_minor": 2
}
