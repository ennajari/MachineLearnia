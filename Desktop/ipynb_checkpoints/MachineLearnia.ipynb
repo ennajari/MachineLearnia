{
 "cells": [
  {
   "cell_type": "code",
   "execution_count": 24,
   "id": "afc883fb-ee1c-44a4-8288-f94ef7122880",
   "metadata": {},
   "outputs": [
    {
     "name": "stdout",
     "output_type": "stream",
     "text": [
      "[0, 1, 4, 9, 16, 25, 36, 49, 64, 81]\n"
     ]
    }
   ],
   "source": [
    "# Using a regular for loop to generate a list of squares\n",
    "liste_1 = []\n",
    "for i in range(10):\n",
    "    liste_1.append(i**2)\n",
    "print(liste_1)\n"
   ]
  },
  {
   "cell_type": "code",
   "execution_count": 212,
   "id": "17d50199-cf5e-45af-b18d-b1cc04bd7358",
   "metadata": {},
   "outputs": [
    {
     "name": "stdout",
     "output_type": "stream",
     "text": [
      "[0, 1, 4, 9, 16, 25, 36, 49, 64, 81]\n"
     ]
    }
   ],
   "source": [
    "liste_2 = [i**2 for i in range(10)]\n",
    "print(liste_2)"
   ]
  },
  {
   "cell_type": "code",
   "execution_count": 242,
   "id": "0594a312-932d-4bfa-8189-1b86d848ada5",
   "metadata": {},
   "outputs": [
    {
     "name": "stdout",
     "output_type": "stream",
     "text": [
      "[[0, 1, 2], [1, 2, 3], [2, 3, 4], [3, 4, 5], [4, 5, 6], [5, 6, 7], [6, 7, 8], [7, 8, 9], [8, 9, 10], [9, 10, 11]]\n"
     ]
    }
   ],
   "source": [
    "lst = [[i+j\n",
    "         for i in range(3)] for j in range(10)]\n",
    "print(lst)\n"
   ]
  },
  {
   "cell_type": "code",
   "execution_count": 246,
   "id": "fcc8b757-134a-4e66-944d-44e6f94520ad",
   "metadata": {},
   "outputs": [],
   "source": [
    "##Dict"
   ]
  },
  {
   "cell_type": "code",
   "execution_count": 282,
   "id": "ce3e010c-b80a-4911-b4c8-d9a9db9c8f02",
   "metadata": {},
   "outputs": [],
   "source": [
    "dict ={\n",
    "    '10':\"abde\",\n",
    "    '11':\"aaa\",\n",
    "    '12':\"bb\",\n",
    "    '13':\"cc\"\n",
    "}"
   ]
  },
  {
   "cell_type": "code",
   "execution_count": 316,
   "id": "9ddc0800-dd28-4093-a244-cfffaf949dcd",
   "metadata": {},
   "outputs": [],
   "source": [
    "prenoms = ['nn','kk','ll','yy']"
   ]
  },
  {
   "cell_type": "code",
   "execution_count": 318,
   "id": "fda02e29-0ec4-4098-80ed-108bec8d1b81",
   "metadata": {},
   "outputs": [
    {
     "name": "stdout",
     "output_type": "stream",
     "text": [
      "{0: 'nn', 1: 'kk', 2: 'll', 3: 'yy'}\n"
     ]
    }
   ],
   "source": [
    "dico = {k:v for k , v in enumerate(prenoms)}\n",
    "print(dico)"
   ]
  },
  {
   "cell_type": "code",
   "execution_count": 320,
   "id": "078a940a-af69-4456-b023-9ccabf342297",
   "metadata": {},
   "outputs": [
    {
     "name": "stdout",
     "output_type": "stream",
     "text": [
      "dict_keys([0, 1, 2, 3])\n"
     ]
    }
   ],
   "source": [
    "print(dico.keys())"
   ]
  },
  {
   "cell_type": "code",
   "execution_count": 344,
   "id": "d589231a-4407-48bd-bff3-24fa4b28f169",
   "metadata": {},
   "outputs": [
    {
     "name": "stdout",
     "output_type": "stream",
     "text": [
      "{62: '13'}\n"
     ]
    }
   ],
   "source": [
    "ages = [24,23,10,62]\n",
    "dic = {k:v for k , v in zip(ages,dict) if k>30}\n",
    "print(dic)"
   ]
  },
  {
   "cell_type": "code",
   "execution_count": 422,
   "id": "5f1da17f-1235-4ac3-9c35-cf24fbf9b1ea",
   "metadata": {},
   "outputs": [
    {
     "name": "stdout",
     "output_type": "stream",
     "text": [
      "[121, 169, 225, 289, 361, 441, 529, 625, 729, 841, 961, 1089, 1225, 1369, 1521, 1681, 1849, 2025, 2209, 2401, 2601, 2809, 3025, 3249, 3481]\n"
     ]
    }
   ],
   "source": [
    "import builtins\n",
    "list = builtins.list\n",
    "\n",
    "li = list(i**2 for i in range(10, 60) if i % 2 != 0)\n",
    "print(li)"
   ]
  },
  {
   "cell_type": "code",
   "execution_count": 424,
   "id": "498fd9a5-f2ed-4443-b00a-ef839fcf3b46",
   "metadata": {},
   "outputs": [
    {
     "name": "stdout",
     "output_type": "stream",
     "text": [
      "(0, 1, 4, 9)\n"
     ]
    }
   ],
   "source": [
    "tuple_1 = tuple(i**2 for i in range(4))\n",
    "print(tuple_1)"
   ]
  },
  {
   "cell_type": "code",
   "execution_count": 472,
   "id": "962ef512-fa67-4045-9d5f-7be53d34b800",
   "metadata": {},
   "outputs": [
    {
     "data": {
      "text/plain": [
       "int"
      ]
     },
     "execution_count": 472,
     "metadata": {},
     "output_type": "execute_result"
    }
   ],
   "source": [
    "y = \"23\"\n",
    "y = int(y)\n",
    "type(y)"
   ]
  },
  {
   "cell_type": "code",
   "execution_count": 490,
   "id": "2cf8d41f-1b6e-45fb-909f-2910a6bb9b6d",
   "metadata": {},
   "outputs": [
    {
     "data": {
      "text/plain": [
       "'0xf'"
      ]
     },
     "execution_count": 490,
     "metadata": {},
     "output_type": "execute_result"
    }
   ],
   "source": [
    "hex(15)"
   ]
  },
  {
   "cell_type": "code",
   "execution_count": 506,
   "id": "41a96b69-bbf7-40a9-a543-550c80f87917",
   "metadata": {},
   "outputs": [
    {
     "name": "stdout",
     "output_type": "stream",
     "text": [
      "Donner un number : 12\n"
     ]
    },
    {
     "data": {
      "text/plain": [
       "22"
      ]
     },
     "execution_count": 506,
     "metadata": {},
     "output_type": "execute_result"
    }
   ],
   "source": [
    "x = int(input('Donner un number :'))\n",
    "x + 10"
   ]
  },
  {
   "cell_type": "code",
   "execution_count": 530,
   "id": "a12faf36-2ad5-44cf-b313-5025f9ff2bd3",
   "metadata": {},
   "outputs": [
    {
     "name": "stdout",
     "output_type": "stream",
     "text": [
      "la temperateur est 30 degC a Paris\n"
     ]
    }
   ],
   "source": [
    "##Abdella\n",
    "x = 30\n",
    "ville = 'Paris'\n",
    "messsage = \"la temperateur est {} degC a {}\".format(x,ville)\n",
    "print(messsage)"
   ]
  },
  {
   "cell_type": "code",
   "execution_count": 546,
   "id": "3657aaef-14de-49ae-8a6b-1646ed9a3571",
   "metadata": {},
   "outputs": [],
   "source": [
    "import numpy as np\n",
    "parametres = {\n",
    "    \"W1\" : np.random.randn(2,4),\n",
    "    \"b1\" : np.zeros((2,1)),\n",
    "    \"W2\" : np.random.randn(2,2),\n",
    "    \"b2\" : np.zeros((2,1))\n",
    "}"
   ]
  },
  {
   "cell_type": "code",
   "execution_count": 566,
   "id": "644fbaaf-32e3-4573-bc95-8af84b889658",
   "metadata": {},
   "outputs": [
    {
     "name": "stdout",
     "output_type": "stream",
     "text": [
      "couche 1\n",
      "[[ 0.25528107  1.07340602 -0.21747229  0.48943101]\n",
      " [ 0.36061619 -0.80776112 -0.57699789 -0.40294412]]\n",
      "couche 2\n",
      "[[-0.17007663  0.70484527]\n",
      " [ 0.31963954 -1.23168838]]\n"
     ]
    }
   ],
   "source": [
    "for i in range(1,3):\n",
    "    print('couche',i)\n",
    "    print(parametres[\"W{}\".format(i)])"
   ]
  },
  {
   "cell_type": "code",
   "execution_count": 36,
   "id": "87c4caa3-f335-46ab-8405-60bed3f12d7a",
   "metadata": {},
   "outputs": [],
   "source": [
    "f = open('C:\\\\Users\\\\abdel\\\\OneDrive\\\\Desktop\\\\.ipynb_checkpoints\\\\file.txt',\"r\")"
   ]
  },
  {
   "cell_type": "code",
   "execution_count": 38,
   "id": "ae1be9fb-e58e-4422-aa07-67f1ae1c8e35",
   "metadata": {},
   "outputs": [],
   "source": [
    "f.write(\"abdellah\")\n",
    "f.close()"
   ]
  },
  {
   "cell_type": "code",
   "execution_count": 2,
   "id": "b5c3259b-75ab-48b3-91c5-663a07d1cdc7",
   "metadata": {},
   "outputs": [],
   "source": [
    "with open('C:\\\\Users\\\\abdel\\\\OneDrive\\\\Desktop\\\\.ipynb_checkpoints\\\\file.txt',\"w\") as f:\n",
    "    for i in range(10):\n",
    "        f.write(f\"{i}^3 = {i**2}\\n\")"
   ]
  },
  {
   "cell_type": "code",
   "execution_count": 1,
   "id": "2d673851",
   "metadata": {},
   "outputs": [],
   "source": [
    "carres_paires = {str(i): i**2 for i in range(0, 20)}\n",
    "\n",
    "with open('file.txt', 'w') as f:\n",
    "    f.write(str(carres_paires))"
   ]
  },
  {
   "cell_type": "code",
   "execution_count": 3,
   "id": "28cca237",
   "metadata": {},
   "outputs": [
    {
     "name": "stdout",
     "output_type": "stream",
     "text": [
      "tablea initial:\n",
      " [[1 2 3]\n",
      " [4 5 6]\n",
      " [7 8 9]]\n",
      "\n",
      "ajoutr un au tableau initail:\n",
      " [[ 2  3  4]\n",
      " [ 5  6  7]\n",
      " [ 8  9 10]]\n",
      "\n",
      "la multiplication de tablau 2 fois deux est:\n",
      " [[1 2 3]\n",
      " [4 5 6]\n",
      " [7 8 9]]\n",
      "\n",
      "le produit scalaire entre tableau 1 et tablau 2 est :\n",
      "\n",
      " [[ 20  47  74]\n",
      " [ 38  92 146]\n",
      " [ 56 137 218]]\n",
      "\n",
      "la transpose de tableau 1 est:\n",
      " [[1 4 7]\n",
      " [2 5 8]\n",
      " [3 6 9]]\n",
      "\n"
     ]
    }
   ],
   "source": [
    "import numpy as np \n",
    "tab = np.array([1,2,3,4,5,6,7])\n",
    "tab = np.array([[1,2,3],[4,5,6],[7,8,9]])\n",
    "print('tableau initial:\\n',tab,end='\\n\\n')\n",
    "#ajouter Un au tableau initial\n",
    "tab1 = tab+1\n",
    "print('ajoutr un au tableau initail:\\n',tab1 ,end='\\n\\n')\n",
    "# muliplier tableau2 fois deux\n",
    "tab2 = tab1*2\n",
    "print('la multiplication de tablau 2 fois deux est:\\n',tab,end='\\n\\n')\n",
    "#produit scalaire\n",
    "produit = np.dot(tab1,tab.T)\n",
    "print('le produit scalaire entre tableau 1 et tablau 2 est :\\n\\n',produit,end=\"\\n\\n\")\n",
    "#Transpose de tableau \n",
    "tab3 = tab.T\n",
    "print('la transpose de tableau 1 est:\\n',tab3,end='\\n\\n')"
   ]
  },
  {
   "cell_type": "code",
   "execution_count": 64,
   "id": "3f13293d",
   "metadata": {},
   "outputs": [
    {
     "name": "stdout",
     "output_type": "stream",
     "text": [
      "[[0 1 2 3]\n",
      " [0 1 4 9]]\n",
      "\n",
      "[[ 0 13  4  9]]\n",
      "(2, 4)\n",
      "\n"
     ]
    }
   ],
   "source": [
    "import numpy as np\n",
    "Matrix = np.array([[i for i in range(4)],[i**2 for i in range(4)]])\n",
    "print(Matrix ,end='\\n\\n')\n",
    "Matrix[1,1]= 13\n",
    "print(Matrix[1:4])\n",
    "forme = Matrix.shape\n",
    "print(forme ,end='\\n\\n')\n"
   ]
  },
  {
   "cell_type": "code",
   "execution_count": 47,
   "id": "380f57e7",
   "metadata": {},
   "outputs": [
    {
     "name": "stdout",
     "output_type": "stream",
     "text": [
      "[[0. 0. 0.]\n",
      " [0. 0. 0.]\n",
      " [0. 0. 0.]]\n",
      "\n",
      "la moyenne est :0.0 \n",
      " l'ecart type est :0.0 \n",
      "\n",
      "[[0. 0. 0.]\n",
      " [0. 0. 0.]\n",
      " [0. 0. 0.]]\n",
      "\n",
      "la moyenne est :1.0 \n",
      " l'ecart type est :0.0 \n",
      "\n",
      "[[1. 1. 1. 1.]\n",
      " [1. 1. 1. 1.]]\n",
      "\n",
      "la moyenne est :13.0 \n",
      " l'ecart type est :0.0 \n",
      "\n",
      "[[13 13 13 13]\n",
      " [13 13 13 13]]\n",
      "\n",
      "la moyenne est :0.3333333333333333 \n",
      " l'ecart type est :0.4714045207910317 \n",
      "\n",
      "[[1. 0. 0.]\n",
      " [0. 1. 0.]\n",
      " [0. 0. 1.]]\n",
      "\n",
      "[0 2 4 6 8]\n"
     ]
    }
   ],
   "source": [
    "# Tableau de zéros\n",
    "zeros = np.zeros((3, 3))\n",
    "print(zeros,end='\\n\\n')\n",
    "moy = np.mean(zeros)\n",
    "ecart_type = np.std(zeros)\n",
    "print(\"la moyenne est :{} \\n l'ecart type est :{} \\n\".format(moy,ecart_type))\n",
    "print(zeros,end='\\n\\n')\n",
    "# Tableau de uns\n",
    "ones = np.ones((2, 4))\n",
    "moy = np.mean(ones)\n",
    "ecart_type = np.std(ones)\n",
    "print(\"la moyenne est :{} \\n l'ecart type est :{} \\n\".format(moy,ecart_type))\n",
    "print(ones,end='\\n\\n')\n",
    "# Tableau de two\n",
    "n = 12\n",
    "ones = np.full((2, 4),1+n)\n",
    "moy = np.mean(ones)\n",
    "ecart_type = np.std(ones)\n",
    "print(\"la moyenne est :{} \\n l'ecart type est :{} \\n\".format(moy,ecart_type))\n",
    "print(ones,end='\\n\\n')\n",
    "# Matrice identité\n",
    "identite = np.eye(3)\n",
    "moy = np.mean(identite)\n",
    "ecart_type = np.std(identite)\n",
    "print(\"la moyenne est :{} \\n l'ecart type est :{} \\n\".format(moy,ecart_type))\n",
    "print(identite,end='\\n\\n')\n",
    "# Tableau avec une plage de valeurs\n",
    "plage_tableau = np.arange(0, 10, 2)\n",
    "print(plage_tableau)\n",
    "\n"
   ]
  },
  {
   "cell_type": "code",
   "execution_count": 65,
   "id": "4fbcbb5a",
   "metadata": {},
   "outputs": [
    {
     "name": "stdout",
     "output_type": "stream",
     "text": [
      "Tableau original : [1 2 3 4 5]\n",
      "Tableau plus un : [2 3 4 5 6]\n",
      "Tableau fois deux : [ 2  4  6  8 10]\n",
      "Tableau 2D :\n",
      " [[1 2 3]\n",
      " [4 5 6]]\n",
      "Tableau remodelé :\n",
      " [[1 2]\n",
      " [3 4]\n",
      " [5 6]]\n",
      "Moyenne : 3.0\n",
      "Écart type : 1.4142135623730951\n"
     ]
    }
   ],
   "source": [
    "import numpy as np\n",
    "\n",
    "# Créer un tableau 1D\n",
    "tableau = np.array([1, 2, 3, 4, 5])\n",
    "\n",
    "# Effectuer des opérations élément par élément\n",
    "tableau_plus_un = tableau + 1\n",
    "tableau_fois_deux = tableau * 2\n",
    "\n",
    "# Créer un tableau 2D et le remodeler\n",
    "tableau_2d = np.array([[1, 2, 3], [4, 5, 6]])\n",
    "tableau_remodelé = tableau_2d.reshape((3, 2))\n",
    "\n",
    "# Calculer la moyenne et l'écart type\n",
    "moyenne = np.mean(tableau)\n",
    "ecart_type = np.std(tableau)\n",
    "\n",
    "print(\"Tableau original :\", tableau)\n",
    "print(\"Tableau plus un :\", tableau_plus_un)\n",
    "print(\"Tableau fois deux :\", tableau_fois_deux)\n",
    "print(\"Tableau 2D :\\n\", tableau_2d)\n",
    "print(\"Tableau remodelé :\\n\", tableau_remodelé)\n",
    "print(\"Moyenne :\", moyenne)\n",
    "print(\"Écart type :\", ecart_type)\n"
   ]
  },
  {
   "cell_type": "code",
   "execution_count": 100,
   "id": "8ff46246",
   "metadata": {},
   "outputs": [
    {
     "name": "stdout",
     "output_type": "stream",
     "text": [
      "(3, 4)\n",
      "[[ 9 29 29 34]\n",
      " [ 5 17 29 75]\n",
      " [43 56 90 97]]\n"
     ]
    }
   ],
   "source": [
    "import numpy as np\n",
    "\n",
    "# Création d'une liste de 100 éléments\n",
    "li = [i for i in range(100)]\n",
    "\n",
    "# Choisir 12 valeurs aléatoires à partir de la liste 'li'\n",
    "random_values = np.random.choice(li, size=(3, 4))\n",
    "\n",
    "# Création d'un tableau 2D avec ces valeurs\n",
    "A = np.array(random_values)\n",
    "\n",
    "# Affichage de la forme du tableau\n",
    "print(A.shape)  # (3, 4)\n",
    "\n",
    "# Affichage du tableau\n",
    "print(A)\n"
   ]
  },
  {
   "cell_type": "code",
   "execution_count": 1,
   "id": "3748faac",
   "metadata": {},
   "outputs": [
    {
     "name": "stdout",
     "output_type": "stream",
     "text": [
      "[[97 56 95 70]\n",
      " [51 50 58 18]\n",
      " [18  7 41 49]]\n",
      "\n",
      "[[4096    4 7569 1089]\n",
      " [1225  841  784 5184]\n",
      " [1024 5329 5041  576]]\n",
      "\n"
     ]
    },
    {
     "data": {
      "text/plain": [
       "array([[  97,   56,   95,   70, 4096,    4, 7569, 1089],\n",
       "       [  51,   50,   58,   18, 1225,  841,  784, 5184],\n",
       "       [  18,    7,   41,   49, 1024, 5329, 5041,  576]])"
      ]
     },
     "execution_count": 1,
     "metadata": {},
     "output_type": "execute_result"
    }
   ],
   "source": [
    "# cree un tableau de 2D de façon aleatoire \n",
    "import numpy as np\n",
    "li = [i for i in range(101)]\n",
    "\n",
    "random_values = np.random.choice(li, size=(3,4))\n",
    "A = np.array(random_values)\n",
    "print(A ,end='\\n\\n')\n",
    "\n",
    "lii = [pow(i,2) for i in range(101)]\n",
    "\n",
    "random_val = np.random.choice(lii, size=(3,4))\n",
    "B= np.array(random_val)\n",
    "print(B ,end='\\n\\n')\n",
    "\n",
    "np.concatenate((A,B),axis=1)"
   ]
  },
  {
   "cell_type": "code",
   "execution_count": 169,
   "id": "94117156",
   "metadata": {},
   "outputs": [
    {
     "data": {
      "text/plain": [
       "array([[0.8567165 , 0.89668205, 0.09406779, 0.2923037 ],\n",
       "       [0.26811849, 0.87998432, 0.73029197, 0.92398571],\n",
       "       [0.13526393, 0.5494229 , 0.35535545, 0.34169818]])"
      ]
     },
     "execution_count": 169,
     "metadata": {},
     "output_type": "execute_result"
    }
   ],
   "source": [
    "# np.random.seed(12364593)\n",
    "np.random.rand(3,4)"
   ]
  },
  {
   "cell_type": "code",
   "execution_count": 223,
   "id": "d8b68861",
   "metadata": {},
   "outputs": [
    {
     "data": {
      "text/plain": [
       "array([ 0.    ,  0.5264,  1.053 ,  1.579 ,  2.105 ,  2.63  ,  3.158 ,\n",
       "        3.684 ,  4.21  ,  4.74  ,  5.26  ,  5.79  ,  6.316 ,  6.844 ,\n",
       "        7.367 ,  7.895 ,  8.42  ,  8.945 ,  9.48  , 10.    ],\n",
       "      dtype=float16)"
      ]
     },
     "execution_count": 223,
     "metadata": {},
     "output_type": "execute_result"
    }
   ],
   "source": [
    "np.linspace(0,10,20,dtype = np.float16)"
   ]
  },
  {
   "cell_type": "code",
   "execution_count": 220,
   "id": "858d7608",
   "metadata": {},
   "outputs": [
    {
     "data": {
      "text/plain": [
       "array([0. , 0.5, 1. , 1.5, 2. , 2.5, 3. , 3.5, 4. , 4.5, 5. , 5.5, 6. ,\n",
       "       6.5, 7. , 7.5, 8. , 8.5, 9. , 9.5])"
      ]
     },
     "execution_count": 220,
     "metadata": {},
     "output_type": "execute_result"
    }
   ],
   "source": [
    "np.arange(0,10,0.5)"
   ]
  },
  {
   "cell_type": "code",
   "execution_count": 221,
   "id": "2ab62f3c",
   "metadata": {},
   "outputs": [],
   "source": [
    "np.float16\n",
    "pi = 3.14\n",
    "\n",
    "np.float64\n",
    "pi = 3.141592653589793"
   ]
  },
  {
   "cell_type": "code",
   "execution_count": 1,
   "id": "dae3a454",
   "metadata": {},
   "outputs": [
    {
     "name": "stdout",
     "output_type": "stream",
     "text": [
      "Exercice de générer une matrice de façon aléatoire :\n",
      "\n",
      "Matrice générée de taille 2x3 :\n",
      "\n",
      "[[0.13477269 0.86230642 0.73975494]\n",
      " [0.83541249 0.36088206 0.91578573]]\n"
     ]
    }
   ],
   "source": [
    "import numpy as np\n",
    "\n",
    "def initialisation(m, n):\n",
    "\n",
    "    matrice = np.random.rand(m, n)\n",
    "    return matrice\n",
    "\n",
    "print(\"Exercice de générer une matrice de façon aléatoire :\\n\")\n",
    "\n",
    "try:\n",
    "    m = int(input(\"Donner le nombre de m (nombre de lignes) :\\n\"))\n",
    "    n = int(input(\"Donner le nombre de n (nombre de colonnes) :\\n\"))\n",
    "\n",
    "    if m > 0 and n > 0:\n",
    "        matrice = initialisation(m, n)\n",
    "        print(\"Matrice générée de taille {}x{} :\\n\".format(m, n))\n",
    "        print(matrice)\n",
    "    else:\n",
    "        print(\"Les valeurs de m et n doivent être des entiers positifs.\")\n",
    "\n",
    "except ValueError:\n",
    "    print(\"Veuillez entrer des nombres entiers valides pour m et n.\")\n"
   ]
  },
  {
   "cell_type": "code",
   "execution_count": 59,
   "id": "7bea774d",
   "metadata": {},
   "outputs": [
    {
     "name": "stdout",
     "output_type": "stream",
     "text": [
      "La premier matrice est:\n",
      " [[5 0 3 3]\n",
      " [7 9 3 5]\n",
      " [2 4 7 6]]\n",
      "\n",
      "la deuxieme matrice est :\n",
      " [[8 8 1 6]\n",
      " [7 7 8 1]\n",
      " [5 9 8 9]]\n",
      "\n",
      "la racine carree de deuxieme caree est :\n",
      " [[2.82842712 2.82842712 1.         2.44948974]\n",
      " [2.64575131 2.64575131 2.82842712 1.        ]\n",
      " [2.23606798 3.         2.82842712 3.        ]]\n",
      "\n",
      "la maltuplication de 1er*2er:\n",
      " [[14.14213562  0.          3.          7.34846923]\n",
      " [18.52025918 23.8117618   8.48528137  5.        ]\n",
      " [ 4.47213595 12.         19.79898987 18.        ]]\n",
      "\n"
     ]
    }
   ],
   "source": [
    "import numpy as np\n",
    "import math\n",
    "np.random.seed(0)\n",
    "matrice = np.random.randint(0, 10,size=(3,4))\n",
    "mat = np.random.randint(0, 10,size=(3,4))\n",
    "print('La premier matrice est:\\n',matrice ,end='\\n\\n')\n",
    "print('la deuxieme matrice est :\\n',mat,end='\\n\\n')\n",
    "mat_sqrt = np.sqrt(mat)\n",
    "print('la racine carree de deuxieme caree est :\\n',mat_sqrt,end='\\n\\n')\n",
    "matric  = matrice*mat_sqrt\n",
    "\n",
    "print('la maltuplication de 1er*2er:\\n',matric ,end='\\n\\n')\n"
   ]
  },
  {
   "cell_type": "code",
   "execution_count": 62,
   "id": "9d710579",
   "metadata": {},
   "outputs": [
    {
     "data": {
      "text/plain": [
       "array([[1, 2, 3],\n",
       "       [4, 5, 6],\n",
       "       [7, 8, 9]])"
      ]
     },
     "execution_count": 62,
     "metadata": {},
     "output_type": "execute_result"
    }
   ],
   "source": [
    "A = np.array(([[1,2,3],[4,5,6],[7,8,9]]))\n",
    "A"
   ]
  },
  {
   "cell_type": "code",
   "execution_count": 76,
   "id": "5779af0d",
   "metadata": {},
   "outputs": [
    {
     "data": {
      "text/plain": [
       "array([1, 4, 7])"
      ]
     },
     "execution_count": 76,
     "metadata": {},
     "output_type": "execute_result"
    }
   ],
   "source": [
    "A[:,0]"
   ]
  }
 ],
 "metadata": {
  "kernelspec": {
   "display_name": "Python 3 (ipykernel)",
   "language": "python",
   "name": "python3"
  },
  "language_info": {
   "codemirror_mode": {
    "name": "ipython",
    "version": 3
   },
   "file_extension": ".py",
   "mimetype": "text/x-python",
   "name": "python",
   "nbconvert_exporter": "python",
   "pygments_lexer": "ipython3",
   "version": "3.10.4"
  }
 },
 "nbformat": 4,
 "nbformat_minor": 5
}
