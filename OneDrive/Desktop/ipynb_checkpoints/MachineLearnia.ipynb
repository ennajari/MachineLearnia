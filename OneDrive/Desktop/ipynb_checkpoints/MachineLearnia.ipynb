{
 "cells": [
  {
   "cell_type": "code",
   "execution_count": 24,
   "id": "afc883fb-ee1c-44a4-8288-f94ef7122880",
   "metadata": {},
   "outputs": [
    {
     "name": "stdout",
     "output_type": "stream",
     "text": [
      "[0, 1, 4, 9, 16, 25, 36, 49, 64, 81]\n"
     ]
    }
   ],
   "source": [
    "# Using a regular for loop to generate a list of squares\n",
    "liste_1 = []\n",
    "for i in range(10):\n",
    "    liste_1.append(i**2)\n",
    "print(liste_1)\n"
   ]
  },
  {
   "cell_type": "code",
   "execution_count": 212,
   "id": "17d50199-cf5e-45af-b18d-b1cc04bd7358",
   "metadata": {},
   "outputs": [
    {
     "name": "stdout",
     "output_type": "stream",
     "text": [
      "[0, 1, 4, 9, 16, 25, 36, 49, 64, 81]\n"
     ]
    }
   ],
   "source": [
    "liste_2 = [i**2 for i in range(10)]\n",
    "print(liste_2)"
   ]
  },
  {
   "cell_type": "code",
   "execution_count": 242,
   "id": "0594a312-932d-4bfa-8189-1b86d848ada5",
   "metadata": {},
   "outputs": [
    {
     "name": "stdout",
     "output_type": "stream",
     "text": [
      "[[0, 1, 2], [1, 2, 3], [2, 3, 4], [3, 4, 5], [4, 5, 6], [5, 6, 7], [6, 7, 8], [7, 8, 9], [8, 9, 10], [9, 10, 11]]\n"
     ]
    }
   ],
   "source": [
    "lst = [[i+j\n",
    "         for i in range(3)] for j in range(10)]\n",
    "print(lst)\n"
   ]
  },
  {
   "cell_type": "code",
   "execution_count": 246,
   "id": "fcc8b757-134a-4e66-944d-44e6f94520ad",
   "metadata": {},
   "outputs": [],
   "source": [
    "##Dict"
   ]
  },
  {
   "cell_type": "code",
   "execution_count": 282,
   "id": "ce3e010c-b80a-4911-b4c8-d9a9db9c8f02",
   "metadata": {},
   "outputs": [],
   "source": [
    "dict ={\n",
    "    '10':\"abde\",\n",
    "    '11':\"aaa\",\n",
    "    '12':\"bb\",\n",
    "    '13':\"cc\"\n",
    "}"
   ]
  },
  {
   "cell_type": "code",
   "execution_count": 316,
   "id": "9ddc0800-dd28-4093-a244-cfffaf949dcd",
   "metadata": {},
   "outputs": [],
   "source": [
    "prenoms = ['nn','kk','ll','yy']"
   ]
  },
  {
   "cell_type": "code",
   "execution_count": 318,
   "id": "fda02e29-0ec4-4098-80ed-108bec8d1b81",
   "metadata": {},
   "outputs": [
    {
     "name": "stdout",
     "output_type": "stream",
     "text": [
      "{0: 'nn', 1: 'kk', 2: 'll', 3: 'yy'}\n"
     ]
    }
   ],
   "source": [
    "dico = {k:v for k , v in enumerate(prenoms)}\n",
    "print(dico)"
   ]
  },
  {
   "cell_type": "code",
   "execution_count": 320,
   "id": "078a940a-af69-4456-b023-9ccabf342297",
   "metadata": {},
   "outputs": [
    {
     "name": "stdout",
     "output_type": "stream",
     "text": [
      "dict_keys([0, 1, 2, 3])\n"
     ]
    }
   ],
   "source": [
    "print(dico.keys())"
   ]
  },
  {
   "cell_type": "code",
   "execution_count": 344,
   "id": "d589231a-4407-48bd-bff3-24fa4b28f169",
   "metadata": {},
   "outputs": [
    {
     "name": "stdout",
     "output_type": "stream",
     "text": [
      "{62: '13'}\n"
     ]
    }
   ],
   "source": [
    "ages = [24,23,10,62]\n",
    "dic = {k:v for k , v in zip(ages,dict) if k>30}\n",
    "print(dic)"
   ]
  },
  {
   "cell_type": "code",
   "execution_count": 422,
   "id": "5f1da17f-1235-4ac3-9c35-cf24fbf9b1ea",
   "metadata": {},
   "outputs": [
    {
     "name": "stdout",
     "output_type": "stream",
     "text": [
      "[121, 169, 225, 289, 361, 441, 529, 625, 729, 841, 961, 1089, 1225, 1369, 1521, 1681, 1849, 2025, 2209, 2401, 2601, 2809, 3025, 3249, 3481]\n"
     ]
    }
   ],
   "source": [
    "import builtins\n",
    "list = builtins.list\n",
    "\n",
    "li = list(i**2 for i in range(10, 60) if i % 2 != 0)\n",
    "print(li)"
   ]
  },
  {
   "cell_type": "code",
   "execution_count": 424,
   "id": "498fd9a5-f2ed-4443-b00a-ef839fcf3b46",
   "metadata": {},
   "outputs": [
    {
     "name": "stdout",
     "output_type": "stream",
     "text": [
      "(0, 1, 4, 9)\n"
     ]
    }
   ],
   "source": [
    "tuple_1 = tuple(i**2 for i in range(4))\n",
    "print(tuple_1)"
   ]
  },
  {
   "cell_type": "code",
   "execution_count": 472,
   "id": "962ef512-fa67-4045-9d5f-7be53d34b800",
   "metadata": {},
   "outputs": [
    {
     "data": {
      "text/plain": [
       "int"
      ]
     },
     "execution_count": 472,
     "metadata": {},
     "output_type": "execute_result"
    }
   ],
   "source": [
    "y = \"23\"\n",
    "y = int(y)\n",
    "type(y)"
   ]
  },
  {
   "cell_type": "code",
   "execution_count": 490,
   "id": "2cf8d41f-1b6e-45fb-909f-2910a6bb9b6d",
   "metadata": {},
   "outputs": [
    {
     "data": {
      "text/plain": [
       "'0xf'"
      ]
     },
     "execution_count": 490,
     "metadata": {},
     "output_type": "execute_result"
    }
   ],
   "source": [
    "hex(15)"
   ]
  },
  {
   "cell_type": "code",
   "execution_count": 506,
   "id": "41a96b69-bbf7-40a9-a543-550c80f87917",
   "metadata": {},
   "outputs": [
    {
     "name": "stdout",
     "output_type": "stream",
     "text": [
      "Donner un number : 12\n"
     ]
    },
    {
     "data": {
      "text/plain": [
       "22"
      ]
     },
     "execution_count": 506,
     "metadata": {},
     "output_type": "execute_result"
    }
   ],
   "source": [
    "x = int(input('Donner un number :'))\n",
    "x + 10"
   ]
  },
  {
   "cell_type": "code",
   "execution_count": 530,
   "id": "a12faf36-2ad5-44cf-b313-5025f9ff2bd3",
   "metadata": {},
   "outputs": [
    {
     "name": "stdout",
     "output_type": "stream",
     "text": [
      "la temperateur est 30 degC a Paris\n"
     ]
    }
   ],
   "source": [
    "##Abdella\n",
    "x = 30\n",
    "ville = 'Paris'\n",
    "messsage = \"la temperateur est {} degC a {}\".format(x,ville)\n",
    "print(messsage)"
   ]
  },
  {
   "cell_type": "code",
   "execution_count": 546,
   "id": "3657aaef-14de-49ae-8a6b-1646ed9a3571",
   "metadata": {},
   "outputs": [],
   "source": [
    "import numpy as np\n",
    "parametres = {\n",
    "    \"W1\" : np.random.randn(2,4),\n",
    "    \"b1\" : np.zeros((2,1)),\n",
    "    \"W2\" : np.random.randn(2,2),\n",
    "    \"b2\" : np.zeros((2,1))\n",
    "}"
   ]
  },
  {
   "cell_type": "code",
   "execution_count": 566,
   "id": "644fbaaf-32e3-4573-bc95-8af84b889658",
   "metadata": {},
   "outputs": [
    {
     "name": "stdout",
     "output_type": "stream",
     "text": [
      "couche 1\n",
      "[[ 0.25528107  1.07340602 -0.21747229  0.48943101]\n",
      " [ 0.36061619 -0.80776112 -0.57699789 -0.40294412]]\n",
      "couche 2\n",
      "[[-0.17007663  0.70484527]\n",
      " [ 0.31963954 -1.23168838]]\n"
     ]
    }
   ],
   "source": [
    "for i in range(1,3):\n",
    "    print('couche',i)\n",
    "    print(parametres[\"W{}\".format(i)])"
   ]
  },
  {
   "cell_type": "code",
   "execution_count": 36,
   "id": "87c4caa3-f335-46ab-8405-60bed3f12d7a",
   "metadata": {},
   "outputs": [],
   "source": [
    "f = open('C:\\\\Users\\\\abdel\\\\OneDrive\\\\Desktop\\\\.ipynb_checkpoints\\\\file.txt',\"r\")"
   ]
  },
  {
   "cell_type": "code",
   "execution_count": 38,
   "id": "ae1be9fb-e58e-4422-aa07-67f1ae1c8e35",
   "metadata": {},
   "outputs": [],
   "source": [
    "f.write(\"abdellah\")\n",
    "f.close()"
   ]
  },
  {
   "cell_type": "code",
   "execution_count": 2,
   "id": "b5c3259b-75ab-48b3-91c5-663a07d1cdc7",
   "metadata": {},
   "outputs": [],
   "source": [
    "with open('C:\\\\Users\\\\abdel\\\\OneDrive\\\\Desktop\\\\.ipynb_checkpoints\\\\file.txt',\"w\") as f:\n",
    "    for i in range(10):\n",
    "        f.write(f\"{i}^3 = {i**2}\\n\")"
   ]
  },
  {
   "cell_type": "code",
   "execution_count": 1,
   "id": "2d673851",
   "metadata": {},
   "outputs": [],
   "source": [
    "carres_paires = {str(i): i**2 for i in range(0, 20)}\n",
    "\n",
    "with open('file.txt', 'w') as f:\n",
    "    f.write(str(carres_paires))"
   ]
  },
  {
   "cell_type": "code",
   "execution_count": 25,
   "id": "28cca237",
   "metadata": {},
   "outputs": [
    {
     "name": "stdout",
     "output_type": "stream",
     "text": [
      "tablea initial:\n",
      " [[1 2 3]\n",
      " [4 5 6]]\n",
      "\n",
      "ajoutr un au tableau initail:\n",
      " [[2 3 4]\n",
      " [5 6 7]]\n",
      "\n",
      "la multiplication de tablau 2 fois deux est:\n",
      " [[1 2 3]\n",
      " [4 5 6]]\n",
      "\n",
      "le produit scalaire entre tableau 1 et tablau 2 est :\n",
      "\n",
      " [[20 47]\n",
      " [38 92]]\n",
      "\n",
      "la transpose de tableau 1 est:\n",
      " [[1 4]\n",
      " [2 5]\n",
      " [3 6]]\n",
      "\n"
     ]
    }
   ],
   "source": [
    "import numpy as np \n",
    "tab = np.array([1,2,3,4,5,6,7])\n",
    "tab = np.array([[1,2,3],[4,5,6]])\n",
    "print('tablea initial:\\n',tab,end='\\n\\n')\n",
    "#ajouter Un au tableau initial\n",
    "tab1 = tab+1\n",
    "print('ajoutr un au tableau initail:\\n',tab1 ,end='\\n\\n')\n",
    "# muliplier tableau2 fois deux\n",
    "tab2 = tab1*2\n",
    "print('la multiplication de tablau 2 fois deux est:\\n',tab,end='\\n\\n')\n",
    "#produit scalaire\n",
    "produit = np.dot(tab1,tab.T)\n",
    "print('le produit scalaire entre tableau 1 et tablau 2 est :\\n\\n',produit,end=\"\\n\\n\")\n",
    "#Transpose de tableau \n",
    "tab3 = tab.T\n",
    "print('la transpose de tableau 1 est:\\n',tab3,end='\\n\\n')"
   ]
  }
 ],
 "metadata": {
  "kernelspec": {
   "display_name": "Python 3 (ipykernel)",
   "language": "python",
   "name": "python3"
  },
  "language_info": {
   "codemirror_mode": {
    "name": "ipython",
    "version": 3
   },
   "file_extension": ".py",
   "mimetype": "text/x-python",
   "name": "python",
   "nbconvert_exporter": "python",
   "pygments_lexer": "ipython3",
   "version": "3.10.4"
  }
 },
 "nbformat": 4,
 "nbformat_minor": 5
}
