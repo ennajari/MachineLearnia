{
 "cells": [
  {
   "cell_type": "code",
   "execution_count": 9,
   "metadata": {},
   "outputs": [
    {
     "name": "stdout",
     "output_type": "stream",
     "text": [
      "-1.0\n",
      "3.317400098335743e+39\n",
      "5\n"
     ]
    }
   ],
   "source": [
    "import math \n",
    "print(math.cos(9*math.pi))\n",
    "print(math.exp(91))\n",
    "#####################################################################\n",
    "## Module Statistique\n",
    "# Le module statistique est utilisé pour calculer des statistiques sur des données.\n",
    "# Il contient des fonctions pour calculer la moyenne, la médiane, la variance\n",
    "###########################################################################\n",
    "import statistics\n",
    "liste_1 = [1,2,3,4,5,6,7,8,9]\n",
    "print(statistics.mean(liste_1))\n"
   ]
  }
 ],
 "metadata": {
  "kernelspec": {
   "display_name": "Python 3",
   "language": "python",
   "name": "python3"
  },
  "language_info": {
   "codemirror_mode": {
    "name": "ipython",
    "version": 3
   },
   "file_extension": ".py",
   "mimetype": "text/x-python",
   "name": "python",
   "nbconvert_exporter": "python",
   "pygments_lexer": "ipython3",
   "version": "3.11.7"
  }
 },
 "nbformat": 4,
 "nbformat_minor": 2
}
