{
 "cells": [
  {
   "cell_type": "code",
   "execution_count": 56,
   "metadata": {},
   "outputs": [
    {
     "name": "stdout",
     "output_type": "stream",
     "text": [
      "-1.0\n",
      "3.317400098335743e+39\n",
      "785.0360857142857\n",
      "F\n"
     ]
    }
   ],
   "source": [
    "import math \n",
    "print(math.cos(9*math.pi))\n",
    "print(math.exp(91))\n",
    "#####################################################################\n",
    "## Module Statistique\n",
    "# Le module statistique est utilisé pour calculer des statistiques sur des données.\n",
    "# Il contient des fonctions pour calculer la moyenne, la médiane, la variance\n",
    "###########################################################################\n",
    "import statistics\n",
    "liste_1 = [19,0.12,3,4,85,6,7,18]\n",
    "print(statistics.variance(liste_1))\n",
    "#########################################################################\n",
    "## Module random\n",
    "#########################################################################\n",
    "# Le module random est utilisé pour générer des nombres aléatoires.\n",
    "import random\n",
    "\n",
    "my_list = [\"A\",\"B\",\"C\",\"D\",\"E\",\"F\",\"G\",\"H\",\"I\"]\n",
    "print(random.choice(my_list))"
   ]
  }
 ],
 "metadata": {
  "kernelspec": {
   "display_name": "Python 3",
   "language": "python",
   "name": "python3"
  },
  "language_info": {
   "codemirror_mode": {
    "name": "ipython",
    "version": 3
   },
   "file_extension": ".py",
   "mimetype": "text/x-python",
   "name": "python",
   "nbconvert_exporter": "python",
   "pygments_lexer": "ipython3",
   "version": "3.11.7"
  }
 },
 "nbformat": 4,
 "nbformat_minor": 2
}
