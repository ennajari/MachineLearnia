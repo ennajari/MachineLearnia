{
 "cells": [
  {
   "cell_type": "code",
   "execution_count": 88,
   "id": "afc883fb-ee1c-44a4-8288-f94ef7122880",
   "metadata": {},
   "outputs": [],
   "source": [
    "def signe(x):\n",
    "    if (x > 0):\n",
    "            print(x,'positif')\n",
    "    elif x == 0 :\n",
    "            print (x,'null')\n",
    "    else :\n",
    "            print(x,'negatif')"
   ]
  },
  {
   "cell_type": "code",
   "execution_count": 90,
   "id": "fd524af4-bd61-47f6-93ef-1a9a55ba6ede",
   "metadata": {},
   "outputs": [
    {
     "name": "stdout",
     "output_type": "stream",
     "text": [
      "-1 negatif\n"
     ]
    }
   ],
   "source": [
    "signe(-1)"
   ]
  },
  {
   "cell_type": "code",
   "execution_count": 104,
   "id": "296af0f8-2ed1-4c51-8705-dd457e9ff049",
   "metadata": {},
   "outputs": [
    {
     "name": "stdout",
     "output_type": "stream",
     "text": [
      "Abdellah\n",
      "Abdellah\n",
      "Abdellah\n",
      "Abdellah\n",
      "Abdellah\n",
      "Abdellah\n",
      "Abdellah\n",
      "Abdellah\n",
      "Abdellah\n",
      "Abdellah\n",
      "Abdellah\n",
      "Abdellah\n",
      "Abdellah\n"
     ]
    }
   ],
   "source": [
    "# la boucle for \n",
    "for i in range(14):\n",
    "    if i == 2 : continue \n",
    "    print('Abdellah')"
   ]
  }
 ],
 "metadata": {
  "kernelspec": {
   "display_name": "Python 3 (ipykernel)",
   "language": "python",
   "name": "python3"
  },
  "language_info": {
   "codemirror_mode": {
    "name": "ipython",
    "version": 3
   },
   "file_extension": ".py",
   "mimetype": "text/x-python",
   "name": "python",
   "nbconvert_exporter": "python",
   "pygments_lexer": "ipython3",
   "version": "3.11.7"
  }
 },
 "nbformat": 4,
 "nbformat_minor": 5
}
