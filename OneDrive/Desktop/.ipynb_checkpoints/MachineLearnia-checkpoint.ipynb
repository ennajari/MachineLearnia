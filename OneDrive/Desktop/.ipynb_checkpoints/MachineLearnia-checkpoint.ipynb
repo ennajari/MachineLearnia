{
 "cells": [
  {
   "cell_type": "code",
   "execution_count": 6,
   "id": "afc883fb-ee1c-44a4-8288-f94ef7122880",
   "metadata": {},
   "outputs": [],
   "source": [
    "#dectionner\n",
    "dict_1 = {\n",
    "   \"chien\":\"dog\",\n",
    "    \"chat\" : \"cat\",\n",
    "    \"souris\" : \"mouse\",\n",
    "    \"oiseau\" : \"bird\"\n",
    "} "
   ]
  }
 ],
 "metadata": {
  "kernelspec": {
   "display_name": "Python 3 (ipykernel)",
   "language": "python",
   "name": "python3"
  },
  "language_info": {
   "codemirror_mode": {
    "name": "ipython",
    "version": 3
   },
   "file_extension": ".py",
   "mimetype": "text/x-python",
   "name": "python",
   "nbconvert_exporter": "python",
   "pygments_lexer": "ipython3",
   "version": "3.11.7"
  }
 },
 "nbformat": 4,
 "nbformat_minor": 5
}
