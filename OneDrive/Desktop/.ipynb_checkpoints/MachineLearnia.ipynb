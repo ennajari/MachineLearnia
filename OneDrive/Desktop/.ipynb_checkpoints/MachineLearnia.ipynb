{
 "cells": [
  {
   "cell_type": "code",
   "execution_count": 6,
   "id": "afc883fb-ee1c-44a4-8288-f94ef7122880",
   "metadata": {},
   "outputs": [],
   "source": [
    "def signe(x):\n",
    "    if (x > 0):\n",
    "            print(x,'positif')\n",
    "    elif x == 0 :\n",
    "            print (x,'null')\n",
    "    else :\n",
    "            print(x,'negatif')"
   ]
  },
  {
   "cell_type": "code",
   "execution_count": 8,
   "id": "fd524af4-bd61-47f6-93ef-1a9a55ba6ede",
   "metadata": {},
   "outputs": [
    {
     "name": "stdout",
     "output_type": "stream",
     "text": [
      "-1 negatif\n"
     ]
    }
   ],
   "source": [
    "signe(-1)"
   ]
  },
  {
   "cell_type": "code",
   "execution_count": 10,
   "id": "296af0f8-2ed1-4c51-8705-dd457e9ff049",
   "metadata": {},
   "outputs": [
    {
     "name": "stdout",
     "output_type": "stream",
     "text": [
      "10 positif\n",
      "9 positif\n",
      "8 positif\n",
      "7 positif\n",
      "6 positif\n",
      "5 positif\n",
      "4 positif\n",
      "3 positif\n",
      "2 positif\n",
      "1 positif\n",
      "0 null\n",
      "-1 negatif\n",
      "-2 negatif\n",
      "-3 negatif\n",
      "-4 negatif\n",
      "-5 negatif\n",
      "-6 negatif\n",
      "-7 negatif\n",
      "-8 negatif\n",
      "-9 negatif\n"
     ]
    }
   ],
   "source": [
    "# la boucle for \n",
    "for i in range(10,-10,-1):\n",
    "    signe(i) "
   ]
  },
  {
   "cell_type": "code",
   "execution_count": 12,
   "id": "b422bce9-b040-4c24-8032-d29ab8ead8d1",
   "metadata": {},
   "outputs": [
    {
     "name": "stdout",
     "output_type": "stream",
     "text": [
      "0\n",
      "1\n",
      "2\n",
      "3\n",
      "4\n",
      "5\n",
      "6\n",
      "7\n",
      "8\n",
      "9\n"
     ]
    }
   ],
   "source": [
    "#la boucle while\n",
    "x = 0 \n",
    "while x < 10 : \n",
    "    print(x)\n",
    "    x +=1"
   ]
  },
  {
   "cell_type": "code",
   "execution_count": 72,
   "id": "54821f79-71df-4dba-95d7-6a57093a6700",
   "metadata": {},
   "outputs": [
    {
     "name": "stdout",
     "output_type": "stream",
     "text": [
      "1\n",
      "positif\n",
      "3\n",
      "positif\n",
      "5\n",
      "positif\n"
     ]
    }
   ],
   "source": [
    "#les listes\n",
    "list_1 = [1,-2,3,-4,5,-6]\n",
    "villes = ['rabat', 'kellat mgouna' , 'casa' , 'marrakcech' , 'berkane' ]\n",
    "liste_2 = [list_1, villes ]\n",
    "for i in list_1:\n",
    "    if i > 0 :\n",
    "        print(i)\n",
    "    else :\n",
    "        print(\"positif\")"
   ]
  },
  {
   "cell_type": "code",
   "execution_count": 74,
   "id": "6f32bbf0-6b4f-4c1b-95df-d010a35b05bb",
   "metadata": {},
   "outputs": [
    {
     "name": "stdout",
     "output_type": "stream",
     "text": [
      "2\n"
     ]
    }
   ],
   "source": [
    "tuple_ = (1, 2, 3, 4, 8, 7)\n",
    "print(tuple_[1])"
   ]
  },
  {
   "cell_type": "code",
   "execution_count": 82,
   "id": "acae4492-dd3b-4e16-838a-e43f769f4885",
   "metadata": {},
   "outputs": [
    {
     "ename": "IndentationError",
     "evalue": "expected an indented block after 'else' statement on line 6 (273510967.py, line 7)",
     "output_type": "error",
     "traceback": [
      "\u001b[1;36m  Cell \u001b[1;32mIn[82], line 7\u001b[1;36m\u001b[0m\n\u001b[1;33m    return\u001b[0m\n\u001b[1;37m    ^\u001b[0m\n\u001b[1;31mIndentationError\u001b[0m\u001b[1;31m:\u001b[0m expected an indented block after 'else' statement on line 6\n"
     ]
    }
   ],
   "source": [
    "#String\n",
    "nom = \"Abdellah\"\n",
    "for i in nom:\n",
    "    if i == \"a\":\n",
    "        print(\"a\")\n",
    "    else :\n",
    "    return \n"
   ]
  }
 ],
 "metadata": {
  "kernelspec": {
   "display_name": "Python 3 (ipykernel)",
   "language": "python",
   "name": "python3"
  },
  "language_info": {
   "codemirror_mode": {
    "name": "ipython",
    "version": 3
   },
   "file_extension": ".py",
   "mimetype": "text/x-python",
   "name": "python",
   "nbconvert_exporter": "python",
   "pygments_lexer": "ipython3",
   "version": "3.11.7"
  }
 },
 "nbformat": 4,
 "nbformat_minor": 5
}
