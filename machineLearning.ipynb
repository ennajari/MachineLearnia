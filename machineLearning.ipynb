{
 "cells": [
  {
   "cell_type": "markdown",
   "metadata": {},
   "source": []
  },
  {
   "cell_type": "code",
   "execution_count": 23,
   "metadata": {},
   "outputs": [],
   "source": [
    "import numpy as np\n",
    "from sklearn.datasets import make_regression\n",
    "import matplotlib.pyplot as plt"
   ]
  },
  {
   "cell_type": "markdown",
   "metadata": {},
   "source": [
    "**1-Dataset**"
   ]
  },
  {
   "cell_type": "code",
   "execution_count": 40,
   "metadata": {},
   "outputs": [
    {
     "data": {
      "text/plain": [
       "<matplotlib.collections.PathCollection at 0x28f75f633a0>"
      ]
     },
     "execution_count": 40,
     "metadata": {},
     "output_type": "execute_result"
    },
    {
     "data": {
      "image/png": "[encoded data removed]",
      "text/plain": [
       "<Figure size 640x480 with 1 Axes>"
      ]
     },
     "metadata": {},
     "output_type": "display_data"
    }
   ],
   "source": [
    "plt.figure(figsize=(10,6))\n",
    "x,y = make_regression(n_samples= 100,n_features=1,noise=10)\n",
    "plt.scatter(x,y)\n",
    "plt.xlabel('X')\n",
    "plt.ylabel('Y')\n",
    "plt.title('Y en fonction de x')\n",
    "plt.show()"
   ]
  },
  {
   "cell_type": "code",
   "execution_count": 58,
   "metadata": {},
   "outputs": [
    {
     "name": "stdout",
     "output_type": "stream",
     "text": [
      "(100, 1)\n",
      "(100, 1)\n",
      "(100, 1)\n",
      "[[ 1.73015535e+01]\n",
      " [ 1.05391524e+02]\n",
      " [ 4.92220838e+01]\n",
      " [ 2.06318818e+02]\n",
      " [-1.97722923e-01]\n",
      " [ 2.13975402e+01]\n",
      " [ 6.65826633e+00]\n",
      " [ 4.37054019e-01]\n",
      " [ 2.34859774e-02]\n",
      " [ 3.83985019e+01]\n",
      " [ 8.63659144e+01]\n",
      " [ 3.00135070e-01]\n",
      " [ 1.13904195e+01]\n",
      " [ 2.05826641e+01]\n",
      " [ 1.16107965e+01]\n",
      " [ 1.58126516e+02]\n",
      " [ 1.49031556e-02]\n",
      " [ 9.76414980e+00]\n",
      " [ 1.16402862e+00]\n",
      " [ 2.50466292e+01]\n",
      " [ 6.98766288e+00]\n",
      " [ 1.24429749e+02]\n",
      " [ 3.19788230e+01]\n",
      " [ 2.87904438e+01]\n",
      " [ 3.43963513e+01]\n",
      " [ 3.05703587e+00]\n",
      " [ 6.30473037e+01]\n",
      " [ 7.07829458e+01]\n",
      " [ 4.38733273e+01]\n",
      " [ 2.04991398e+01]\n",
      " [ 1.09308645e+02]\n",
      " [ 4.49271579e+00]\n",
      " [-2.55322681e-01]\n",
      " [ 1.26252379e+01]\n",
      " [ 2.81236441e+02]\n",
      " [ 7.03491218e+01]\n",
      " [ 1.06141493e+01]\n",
      " [-8.24877239e-02]\n",
      " [ 9.30785828e+00]\n",
      " [ 5.49499542e+00]\n",
      " [ 6.32479518e-01]\n",
      " [ 1.72960507e+00]\n",
      " [ 2.93712831e-01]\n",
      " [ 3.73072209e+01]\n",
      " [ 7.07306089e+00]\n",
      " [-5.68363517e-02]\n",
      " [-3.47099114e-01]\n",
      " [-5.94565414e-01]\n",
      " [ 1.29165328e+01]\n",
      " [ 1.37163254e+01]\n",
      " [ 4.27013545e+01]\n",
      " [ 5.50443367e+00]\n",
      " [ 3.20387746e+01]\n",
      " [ 2.76329928e+01]\n",
      " [ 1.66643972e+00]\n",
      " [ 2.06351011e+01]\n",
      " [ 5.85223897e+01]\n",
      " [ 2.89636282e+01]\n",
      " [ 1.46870888e+00]\n",
      " [ 3.93783347e-02]\n",
      " [ 1.82850486e+01]\n",
      " [ 2.89390803e+01]\n",
      " [ 1.54962905e+01]\n",
      " [ 2.63832865e+01]\n",
      " [ 2.39215544e+00]\n",
      " [ 5.56922549e+01]\n",
      " [ 1.55460320e+00]\n",
      " [-1.00156221e+00]\n",
      " [-3.77939875e+00]\n",
      " [ 1.26158582e+01]\n",
      " [ 4.09005682e+00]\n",
      " [ 1.18902240e+02]\n",
      " [ 3.63248640e+02]\n",
      " [ 5.52572136e+00]\n",
      " [ 2.30770744e+00]\n",
      " [ 4.01970784e+00]\n",
      " [ 1.71932754e+02]\n",
      " [ 6.99972402e-03]\n",
      " [ 1.30814124e+01]\n",
      " [ 9.44008619e+00]\n",
      " [ 1.08454262e+02]\n",
      " [ 8.34464166e+01]\n",
      " [-2.88569720e-02]\n",
      " [ 1.42272125e+00]\n",
      " [ 2.16895950e-01]\n",
      " [ 2.50546973e+00]\n",
      " [ 3.83933343e-01]\n",
      " [ 4.10467371e+01]\n",
      " [ 1.81496017e+02]\n",
      " [ 8.26776618e+01]\n",
      " [ 1.98556605e+01]\n",
      " [ 1.53745456e+01]\n",
      " [-7.25750823e-01]\n",
      " [ 2.51709798e+00]\n",
      " [ 1.14034118e+00]\n",
      " [ 1.87153272e+01]\n",
      " [ 1.18816112e+01]\n",
      " [ 1.59904759e+01]\n",
      " [ 2.05906459e+01]\n",
      " [ 1.95514390e+01]]\n"
     ]
    }
   ],
   "source": [
    "print(x.shape)\n",
    "print(y.shape)\n",
    "y = y.reshape(100,1)\n",
    "print(y.shape)\n",
    "z = x*(y)\n",
    "print(z)"
   ]
  }
 ],
 "metadata": {
  "kernelspec": {
   "display_name": "Python 3",
   "language": "python",
   "name": "python3"
  },
  "language_info": {
   "codemirror_mode": {
    "name": "ipython",
    "version": 3
   },
   "file_extension": ".py",
   "mimetype": "text/x-python",
   "name": "python",
   "nbconvert_exporter": "python",
   "pygments_lexer": "ipython3",
   "version": "3.10.4"
  }
 },
 "nbformat": 4,
 "nbformat_minor": 2
}
