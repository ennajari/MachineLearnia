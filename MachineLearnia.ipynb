{
 "cells": [
  {
   "cell_type": "code",
   "execution_count": 6,
   "id": "afc883fb-ee1c-44a4-8288-f94ef7122880",
   "metadata": {},
   "outputs": [],
   "source": [
    "def signe(x):\n",
    "    if (x > 0):\n",
    "            print(x,'positif')\n",
    "    elif x == 0 :\n",
    "            print (x,'null')\n",
    "    else :\n",
    "            print(x,'negatif')"
   ]
  },
  {
   "cell_type": "code",
   "execution_count": 8,
   "id": "fd524af4-bd61-47f6-93ef-1a9a55ba6ede",
   "metadata": {},
   "outputs": [
    {
     "name": "stdout",
     "output_type": "stream",
     "text": [
      "-1 negatif\n"
     ]
    }
   ],
   "source": [
    "signe(-1)"
   ]
  },
  {
   "cell_type": "code",
   "execution_count": 10,
   "id": "296af0f8-2ed1-4c51-8705-dd457e9ff049",
   "metadata": {},
   "outputs": [
    {
     "name": "stdout",
     "output_type": "stream",
     "text": [
      "10 positif\n",
      "9 positif\n",
      "8 positif\n",
      "7 positif\n",
      "6 positif\n",
      "5 positif\n",
      "4 positif\n",
      "3 positif\n",
      "2 positif\n",
      "1 positif\n",
      "0 null\n",
      "-1 negatif\n",
      "-2 negatif\n",
      "-3 negatif\n",
      "-4 negatif\n",
      "-5 negatif\n",
      "-6 negatif\n",
      "-7 negatif\n",
      "-8 negatif\n",
      "-9 negatif\n"
     ]
    }
   ],
   "source": [
    "# la boucle for \n",
    "for i in range(10,-10,-1):\n",
    "    signe(i) "
   ]
  },
  {
   "cell_type": "code",
   "execution_count": 12,
   "id": "b422bce9-b040-4c24-8032-d29ab8ead8d1",
   "metadata": {},
   "outputs": [
    {
     "name": "stdout",
     "output_type": "stream",
     "text": [
      "0\n",
      "1\n",
      "2\n",
      "3\n",
      "4\n",
      "5\n",
      "6\n",
      "7\n",
      "8\n",
      "9\n"
     ]
    }
   ],
   "source": [
    "#la boucle while\n",
    "x = 0 \n",
    "while x < 10 : \n",
    "    print(x)\n",
    "    x +=1"
   ]
  },
  {
   "cell_type": "code",
   "execution_count": 24,
   "id": "54821f79-71df-4dba-95d7-6a57093a6700",
   "metadata": {},
   "outputs": [
    {
     "name": "stdout",
     "output_type": "stream",
     "text": [
      "[[1, 2, 3, 4, 5, 6], 'khali']\n"
     ]
    }
   ],
   "source": [
    "#les listes\n",
    "list_1 = [1,2,3,4,5,6]\n",
    "villes = ['rabat', 'kellat mgouna' , 'casa' , 'marrakcech' , 'berkane' ]\n",
    "liste_2 = [list_1, 'khali' ]\n",
    "print(liste_2)"
   ]
  }
 ],
 "metadata": {
  "kernelspec": {
   "display_name": "Python 3 (ipykernel)",
   "language": "python",
   "name": "python3"
  },
  "language_info": {
   "codemirror_mode": {
    "name": "ipython",
    "version": 3
   },
   "file_extension": ".py",
   "mimetype": "text/x-python",
   "name": "python",
   "nbconvert_exporter": "python",
   "pygments_lexer": "ipython3",
   "version": "3.11.7"
  }
 },
 "nbformat": 4,
 "nbformat_minor": 5
}
